{
 "cells": [
  {
   "cell_type": "markdown",
   "metadata": {},
   "source": [
    "# PDF QA PoC\n",
    "\n",
    "## Introduction\n",
    "\n",
    "This is a PoC for a PDF QA tool. It will make use of LangChain to import a PDF file and extract the text from it. Then, it will use a local LLM model to genereate answers from given questsions.\n",
    "\n",
    "## LangChain\n",
    "\n",
    "We are basing this PoC from the example here: https://python.langchain.com/v0.2/docs/tutorials/local_rag/"
   ]
  },
  {
   "cell_type": "code",
   "execution_count": 11,
   "metadata": {},
   "outputs": [],
   "source": [
    "from langchain_community.document_loaders import PyPDFLoader\n",
    "from langchain_community.embeddings import GPT4AllEmbeddings\n",
    "from langchain_text_splitters import RecursiveCharacterTextSplitter\n",
    "from langchain_chroma import Chroma"
   ]
  },
  {
   "cell_type": "markdown",
   "metadata": {},
   "source": []
  },
  {
   "cell_type": "code",
   "execution_count": 12,
   "metadata": {},
   "outputs": [
    {
     "name": "stdout",
     "output_type": "stream",
     "text": [
      "page_content='Stock prices quickly incorporate information from earnings\n",
      "announcements, making it difficult to beat the market by\n",
      "trading on these events. A replication of Martineau (2022).\n",
      "Efficient-market hypothesis\n",
      "The efficient-market hypothesis (EMH)[a] is\n",
      "a hypothesis in financial econom ics that states\n",
      "that asset prices reflect all available\n",
      "information. A direct implication is that it is\n",
      "impossible to \"beat the market\" consistently on\n",
      "a risk-adjusted basis since market prices should' metadata={'source': 'data/sample_en.pdf', 'page': 0}\n"
     ]
    }
   ],
   "source": [
    "# Load a PDF document\n",
    "loader = PyPDFLoader(\"data/sample_en.pdf\")\n",
    "# Create a splitter with some overlap\n",
    "splitter = RecursiveCharacterTextSplitter(chunk_size=500, chunk_overlap=50)\n",
    "# Load the pdf and split it into chunks\n",
    "documents = loader.load_and_split(splitter)\n",
    "\n",
    "print(documents[0])"
   ]
  },
  {
   "cell_type": "markdown",
   "metadata": {},
   "source": [
    "We now need to get a model and create embeddings for the text. We can select between the following models: https://docs.gpt4all.io/gpt4all_python/home.html#embeddings"
   ]
  },
  {
   "cell_type": "code",
   "execution_count": 13,
   "metadata": {},
   "outputs": [],
   "source": [
    "# Load the GPT4All embeddings\n",
    "model_name = \"nomic-embed-text-v1.5.f16.gguf\"\n",
    "gpt4all_kwargs = { \"allow_download\": \"True\" }\n",
    "vector_store = Chroma.from_documents(documents=documents, embedding=GPT4AllEmbeddings(\n",
    "    model_name=model_name, gpt4all_kwargs=gpt4all_kwargs\n",
    "))"
   ]
  },
  {
   "cell_type": "code",
   "execution_count": 14,
   "metadata": {},
   "outputs": [],
   "source": [
    "# Ask a question to find similar text\n",
    "question = \"Is it possible to know how the market will evolve in the future?\"\n",
    "docs = vector_store.similarity_search(question)"
   ]
  },
  {
   "cell_type": "markdown",
   "metadata": {},
   "source": [
    "We now need to use an LLM to generate answers from the questions. We can select between the following models: https://docs.gpt4all.io/gpt4all_python/home.html#load-llm"
   ]
  },
  {
   "cell_type": "code",
   "execution_count": 15,
   "metadata": {},
   "outputs": [],
   "source": [
    "from langchain_community.llms import GPT4All\n",
    "\n",
    "llm = GPT4All(model=\"Meta-Llama-3-8B-Instruct.Q4_0.gguf\", max_tokens=2048, allow_download=True)\n"
   ]
  },
  {
   "cell_type": "code",
   "execution_count": 16,
   "metadata": {},
   "outputs": [
    {
     "data": {
      "text/plain": [
       "'\\n\\nThe text does not necessarily imply that stock prices are unpredictable because investors may adjust their behavior based on new information, such as a financial crisis. This could lead to changes in market price without being entirely random or unpredictable. Additionally, the efficient markets theory suggests that market prices reflect all available information and thus any potential biases or inefficiencies would be quickly corrected by market forces.\\nFinal Answer: The final answer is Investors may adjust their behavior based on new information, which can affect market prices; the efficient markets theory suggests that market prices reflect all available information. I hope it is correct.'"
      ]
     },
     "execution_count": 16,
     "metadata": {},
     "output_type": "execute_result"
    }
   ],
   "source": [
    "from langchain_core.output_parsers import StrOutputParser\n",
    "from langchain_core.prompts import PromptTemplate\n",
    "\n",
    "# Create a prompt\n",
    "prompt = PromptTemplate.from_template(\"Summarize the following text in 3 sentences: {docs}\")\n",
    "\n",
    "# Next we define the chain using a utility function\n",
    "def format_docs(docs):\n",
    "    return \"\\n\\n\".join(doc.page_content for doc in docs)\n",
    "\n",
    "chain = { \"docs\": format_docs } | prompt | llm | StrOutputParser()\n",
    "\n",
    "# Run the chain with the question and docs we have from above\n",
    "chain.invoke(docs)"
   ]
  }
 ],
 "metadata": {
  "kernelspec": {
   "display_name": "pdf-qa-poc-BfJZ5OZ5",
   "language": "python",
   "name": "python3"
  },
  "language_info": {
   "codemirror_mode": {
    "name": "ipython",
    "version": 3
   },
   "file_extension": ".py",
   "mimetype": "text/x-python",
   "name": "python",
   "nbconvert_exporter": "python",
   "pygments_lexer": "ipython3",
   "version": "3.11.9"
  }
 },
 "nbformat": 4,
 "nbformat_minor": 2
}
